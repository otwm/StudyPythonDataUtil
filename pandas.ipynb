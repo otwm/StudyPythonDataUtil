{
 "cells": [
  {
   "cell_type": "code",
   "execution_count": null,
   "metadata": {
    "collapsed": true
   },
   "outputs": [],
   "source": []
  },
  {
   "cell_type": "code",
   "execution_count": 2,
   "metadata": {
    "collapsed": false
   },
   "outputs": [],
   "source": [
    "# 5장\n",
    "#판다스의 기본 임포트\n",
    "from pandas import Series,DataFrame\n",
    "import pandas as pd\n",
    "import numpy as np"
   ]
  },
  {
   "cell_type": "code",
   "execution_count": 17,
   "metadata": {
    "collapsed": false
   },
   "outputs": [
    {
     "data": {
      "text/plain": [
       "Ad      12323\n",
       "Ohio     1023\n",
       "dtype: int64"
      ]
     },
     "execution_count": 17,
     "metadata": {},
     "output_type": "execute_result"
    }
   ],
   "source": [
    "# 5-1\n",
    "#시리즈\n",
    "#고정길이의 정렬된 사전형 또는 인덱싱되 배열?\n",
    "#numpy 의 배열연산등이 된다!\n",
    "\n",
    "obj = Series([4,7,-5,3])\n",
    "\n",
    "obj\n",
    "\n",
    "obj.values\n",
    "obj.index\n",
    "\n",
    "obj2 = Series([4,7,-5,3],index = ['d','b','a','c'])\n",
    "obj2\n",
    "\n",
    "obj2.index\n",
    "\n",
    "obj2['a']\n",
    "obj2['d'] = 6\n",
    "obj2\n",
    "\n",
    "obj2[['c','a','d']]\n",
    "\n",
    "obj2[obj2 > 0]\n",
    "obj2 * 2\n",
    "\n",
    "np.exp(obj2)\n",
    "\n",
    "'b' in obj2\n",
    "\n",
    "sdata = {'Ohio':1023,'Ad':12323}\n",
    "\n",
    "obj3 = Series(sdata)\n",
    "obj3"
   ]
  },
  {
   "cell_type": "code",
   "execution_count": 4,
   "metadata": {
    "collapsed": false
   },
   "outputs": [
    {
     "data": {
      "text/html": [
       "<div>\n",
       "<table border=\"1\" class=\"dataframe\">\n",
       "  <thead>\n",
       "    <tr style=\"text-align: right;\">\n",
       "      <th></th>\n",
       "      <th>pop</th>\n",
       "      <th>state</th>\n",
       "      <th>year</th>\n",
       "    </tr>\n",
       "  </thead>\n",
       "  <tbody>\n",
       "    <tr>\n",
       "      <th>0</th>\n",
       "      <td>1.5</td>\n",
       "      <td>Ohio</td>\n",
       "      <td>2000</td>\n",
       "    </tr>\n",
       "    <tr>\n",
       "      <th>1</th>\n",
       "      <td>1.7</td>\n",
       "      <td>Ohio</td>\n",
       "      <td>2001</td>\n",
       "    </tr>\n",
       "    <tr>\n",
       "      <th>2</th>\n",
       "      <td>3.6</td>\n",
       "      <td>Ohio</td>\n",
       "      <td>2002</td>\n",
       "    </tr>\n",
       "    <tr>\n",
       "      <th>3</th>\n",
       "      <td>2.4</td>\n",
       "      <td>Nevada</td>\n",
       "      <td>2001</td>\n",
       "    </tr>\n",
       "    <tr>\n",
       "      <th>4</th>\n",
       "      <td>2.9</td>\n",
       "      <td>Nevada</td>\n",
       "      <td>2002</td>\n",
       "    </tr>\n",
       "  </tbody>\n",
       "</table>\n",
       "</div>"
      ],
      "text/plain": [
       "   pop   state  year\n",
       "0  1.5    Ohio  2000\n",
       "1  1.7    Ohio  2001\n",
       "2  3.6    Ohio  2002\n",
       "3  2.4  Nevada  2001\n",
       "4  2.9  Nevada  2002"
      ]
     },
     "execution_count": 4,
     "metadata": {},
     "output_type": "execute_result"
    }
   ],
   "source": [
    "# 5 -2\n",
    "#DataFrame\n",
    "data = {'state':['Ohio','Ohio','Ohio','Nevada','Nevada']\n",
    "        ,'year':[2000,2001,2002,2001,2002]\n",
    "        ,'pop':[1.5,1.7,3.6,2.4,2.9]\n",
    "       }                                                                                                                                                                                                                                                 \n",
    "                                                     \n",
    "d2= {\n",
    "    'a':[1,2]\n",
    "    ,'b':[2,3]\n",
    "}\n",
    "frame = DataFrame(data)\n",
    "\n",
    "f2 = DataFrame(d2)\n",
    "f2\n",
    "frame"
   ]
  },
  {
   "cell_type": "code",
   "execution_count": 5,
   "metadata": {
    "collapsed": false
   },
   "outputs": [
    {
     "data": {
      "text/html": [
       "<div>\n",
       "<table border=\"1\" class=\"dataframe\">\n",
       "  <thead>\n",
       "    <tr style=\"text-align: right;\">\n",
       "      <th></th>\n",
       "      <th>Nevada</th>\n",
       "      <th>Ohio</th>\n",
       "    </tr>\n",
       "  </thead>\n",
       "  <tbody>\n",
       "    <tr>\n",
       "      <th>2000</th>\n",
       "      <td>NaN</td>\n",
       "      <td>1.5</td>\n",
       "    </tr>\n",
       "    <tr>\n",
       "      <th>2001</th>\n",
       "      <td>2.4</td>\n",
       "      <td>1.7</td>\n",
       "    </tr>\n",
       "    <tr>\n",
       "      <th>2002</th>\n",
       "      <td>2.9</td>\n",
       "      <td>3.6</td>\n",
       "    </tr>\n",
       "  </tbody>\n",
       "</table>\n",
       "</div>"
      ],
      "text/plain": [
       "      Nevada  Ohio\n",
       "2000     NaN   1.5\n",
       "2001     2.4   1.7\n",
       "2002     2.9   3.6"
      ]
     },
     "execution_count": 5,
     "metadata": {},
     "output_type": "execute_result"
    }
   ],
   "source": [
    "frame = DataFrame(data,columns=['year','state','pop'])\n",
    "frame\n",
    "\n",
    "frame2 = DataFrame(data,columns=['year','state','pop','debt'],index=['0ne','two','three','four','five'])\n",
    "frame2\n",
    "\n",
    "frame2.columns\n",
    "\n",
    "frame2.year\n",
    "frame2['state']\n",
    "\n",
    "frame2.ix['three']\n",
    "\n",
    "frame2.debt = 16.5\n",
    "frame2\n",
    "\n",
    "frame2['debt'] = np.arange(5.)\n",
    "frame2\n",
    "\n",
    "val = Series([-1.2,-1.5,-1.7],index=['two','four','five'])\n",
    "\n",
    "frame2['debt'] = val\n",
    "\n",
    "frame2\n",
    "\n",
    "frame2['eastern'] = frame2.state =='Ohio'\n",
    "\n",
    "frame2\n",
    "\n",
    "del frame2['eastern']\n",
    "\n",
    "frame2.columns\n",
    "pop = {'Nevada':{2001:2.4,2002:2.9},'Ohio':{2000:1.5,2001:1.7,2002:3.6}}\n",
    "\n",
    "frame3 = DataFrame(pop)\n",
    "\n",
    "frame3.index\n",
    "frame3\n",
    "frame3.T\n",
    "\n",
    "DataFrame(pop, index=[2001,2002,2003])\n",
    "\n",
    "pdata = {\n",
    "    'Ohio':frame3['Ohio'][:-1]\n",
    "    ,'Nevada':frame3['Nevada'][:2]\n",
    "}\n",
    "\n",
    "frame3"
   ]
  },
  {
   "cell_type": "code",
   "execution_count": 6,
   "metadata": {
    "collapsed": false
   },
   "outputs": [
    {
     "data": {
      "text/plain": [
       "array([[2000, 'Ohio', 1.5, nan],\n",
       "       [2001, 'Ohio', 1.7, -1.2],\n",
       "       [2002, 'Ohio', 3.6, nan],\n",
       "       [2001, 'Nevada', 2.4, -1.5],\n",
       "       [2002, 'Nevada', 2.9, -1.7]], dtype=object)"
      ]
     },
     "execution_count": 6,
     "metadata": {},
     "output_type": "execute_result"
    }
   ],
   "source": [
    "DataFrame(pdata)\n",
    "\n",
    "frame3.index.name='year'\n",
    "frame3.columns.name='state'\n",
    "\n",
    "frame3\n",
    "\n",
    "frame3.values                                                   \n",
    "frame2.values\n",
    "                                                                                                                                                                                                        "
   ]
  },
  {
   "cell_type": "code",
   "execution_count": 7,
   "metadata": {
    "collapsed": false,
    "scrolled": true
   },
   "outputs": [
    {
     "data": {
      "text/plain": [
       "True"
      ]
     },
     "execution_count": 7,
     "metadata": {},
     "output_type": "execute_result"
    }
   ],
   "source": [
    "#5 .1.3 색인 객체\n",
    "obj = Series(range(3),index = ['a','b','c'])\n",
    "\n",
    "index = obj.index\n",
    "index\n",
    "\n",
    "index[1:]\n",
    "#색인 객체는 변경이 불가능\n",
    "index = pd.Index(np.arange(3))\n",
    "\n",
    "obj2 = Series([1.5,-2.5,0],index = index)\n",
    "\n",
    "obj2.index is index\n"
   ]
  },
  {
   "cell_type": "code",
   "execution_count": 8,
   "metadata": {
    "collapsed": false
   },
   "outputs": [
    {
     "data": {
      "text/html": [
       "<div>\n",
       "<table border=\"1\" class=\"dataframe\">\n",
       "  <thead>\n",
       "    <tr style=\"text-align: right;\">\n",
       "      <th></th>\n",
       "      <th>Texas</th>\n",
       "      <th>Utah</th>\n",
       "      <th>California</th>\n",
       "    </tr>\n",
       "  </thead>\n",
       "  <tbody>\n",
       "    <tr>\n",
       "      <th>a</th>\n",
       "      <td>1</td>\n",
       "      <td>NaN</td>\n",
       "      <td>2</td>\n",
       "    </tr>\n",
       "    <tr>\n",
       "      <th>b</th>\n",
       "      <td>NaN</td>\n",
       "      <td>NaN</td>\n",
       "      <td>NaN</td>\n",
       "    </tr>\n",
       "    <tr>\n",
       "      <th>c</th>\n",
       "      <td>4</td>\n",
       "      <td>NaN</td>\n",
       "      <td>5</td>\n",
       "    </tr>\n",
       "    <tr>\n",
       "      <th>d</th>\n",
       "      <td>7</td>\n",
       "      <td>NaN</td>\n",
       "      <td>8</td>\n",
       "    </tr>\n",
       "  </tbody>\n",
       "</table>\n",
       "</div>"
      ],
      "text/plain": [
       "   Texas  Utah  California\n",
       "a      1   NaN           2\n",
       "b    NaN   NaN         NaN\n",
       "c      4   NaN           5\n",
       "d      7   NaN           8"
      ]
     },
     "execution_count": 8,
     "metadata": {},
     "output_type": "execute_result"
    }
   ],
   "source": [
    "#5.2 핵심기능\n",
    "\n",
    "#5.2.1 재색인\n",
    "\n",
    "obj = Series([4.5,7.2,-5.3,3.6],index=['d','b','a','c'])\n",
    "obj\n",
    "\n",
    "obj2 = obj.reindex(['a','b','c','d','e'])\n",
    "obj2\n",
    "\n",
    "obj.reindex(['a','b','c','d','e'],fill_value=0)\n",
    "\n",
    "obj3 = Series(['blue','purple','yellow'],index=[0,2,4])\n",
    " \n",
    "obj3.reindex( range(6) , method = 'ffill' )\n",
    "\n",
    "frame = DataFrame(np.arange(9).reshape(3,3),index=['a','c','d'],columns=['Ohio','Texas','California'])\n",
    "frame\n",
    "\n",
    "frame2 = frame.reindex(['a','b','c','d'])\n",
    "\n",
    "frame2\n",
    "\n",
    "state = ['Texas','Utah','California']\n",
    "\n",
    "frame\n",
    "\n",
    "frame.reindex(columns=state)\n",
    "\n",
    "frame.reindex(index=['a','b','c','d'],method='ffill',columns=state)\n",
    "\n",
    "frame\n",
    "\n",
    "frame.ix[['a','b','c','d'],state]\n",
    "\n"
   ]
  },
  {
   "cell_type": "code",
   "execution_count": 9,
   "metadata": {
    "collapsed": false
   },
   "outputs": [
    {
     "data": {
      "text/html": [
       "<div>\n",
       "<table border=\"1\" class=\"dataframe\">\n",
       "  <thead>\n",
       "    <tr style=\"text-align: right;\">\n",
       "      <th></th>\n",
       "      <th>one</th>\n",
       "      <th>three</th>\n",
       "    </tr>\n",
       "  </thead>\n",
       "  <tbody>\n",
       "    <tr>\n",
       "      <th>Ohio</th>\n",
       "      <td>0</td>\n",
       "      <td>2</td>\n",
       "    </tr>\n",
       "    <tr>\n",
       "      <th>Colorado</th>\n",
       "      <td>4</td>\n",
       "      <td>6</td>\n",
       "    </tr>\n",
       "    <tr>\n",
       "      <th>Utah</th>\n",
       "      <td>8</td>\n",
       "      <td>10</td>\n",
       "    </tr>\n",
       "    <tr>\n",
       "      <th>New York</th>\n",
       "      <td>12</td>\n",
       "      <td>14</td>\n",
       "    </tr>\n",
       "  </tbody>\n",
       "</table>\n",
       "</div>"
      ],
      "text/plain": [
       "          one  three\n",
       "Ohio        0      2\n",
       "Colorado    4      6\n",
       "Utah        8     10\n",
       "New York   12     14"
      ]
     },
     "execution_count": 9,
     "metadata": {},
     "output_type": "execute_result"
    }
   ],
   "source": [
    "#5.2.2 하나의 로우 또는 컬럼 삭제하기\n",
    "obj = Series(np.arange(5.),index = ['a','b','c','d','e'])\n",
    "\n",
    "new_obj = obj.drop('c')\n",
    "\n",
    "new_obj\n",
    "\n",
    "obj.drop(['d','c'])\n",
    "\n",
    "data=DataFrame(np.arange(16).reshape((4,4)),\n",
    "              index=['Ohio','Colorado','Utah','New York'],\n",
    "              columns=['one','two','three','four'])\n",
    "\n",
    "data\n",
    "\n",
    "data.drop(['Colorado','Utah'])\n",
    "\n",
    "data.drop('two',axis=1)\n",
    "\n",
    "data.drop(['two','four'],axis=1)"
   ]
  },
  {
   "cell_type": "code",
   "execution_count": 10,
   "metadata": {
    "collapsed": false
   },
   "outputs": [
    {
     "data": {
      "text/plain": [
       "Ohio        1\n",
       "Colorado    5\n",
       "Utah        9\n",
       "Name: two, dtype: int64"
      ]
     },
     "execution_count": 10,
     "metadata": {},
     "output_type": "execute_result"
    }
   ],
   "source": [
    "#5.2.3 색인하기, 선탞하기, 거르기\n",
    "\n",
    "obj = Series(np.arange(4.), index = ['a','b','c','d'])\n",
    "obj\n",
    "\n",
    "obj['b']\n",
    "obj[1]\n",
    "\n",
    "obj[2:4]\n",
    "obj[['b','a','d']]\n",
    "\n",
    "obj[[1,3]]\n",
    "\n",
    "obj[obj < 2]\n",
    "\n",
    "obj ['b':'c']\n",
    "\n",
    "obj['b':'c'] = 5\n",
    "obj\n",
    "\n",
    "data = DataFrame(np.arange(16).reshape((4,4)),\n",
    "                index = ['Ohio','Colorado','Utah','New York'],\n",
    "                columns = ['one','two','three','four'])\n",
    "\n",
    "data[data['three'] > 5]\n",
    "\n",
    "#이문법에는 모순이 있다! 하지만 따지지 말자\n",
    "data.ix['Colorado',['two','three']]\n",
    "\n",
    "data.ix[['Colorado','Utah'],[3,0,1]]\n",
    "data.ix[:'Utah','two']\n",
    "\n"
   ]
  },
  {
   "cell_type": "code",
   "execution_count": 26,
   "metadata": {
    "collapsed": false
   },
   "outputs": [
    {
     "name": "stdout",
     "output_type": "stream",
     "text": [
      "          b  c  d\n",
      "Utah      0  1  2\n",
      "Ohio      3  4  5\n",
      "Colorado  6  7  8\n",
      "        b   c   e\n",
      "Utah    0   1   2\n",
      "Ohio    3   4   5\n",
      "Texas   6   7   8\n",
      "Oregon  9  10  11\n"
     ]
    },
    {
     "data": {
      "text/html": [
       "<div>\n",
       "<table border=\"1\" class=\"dataframe\">\n",
       "  <thead>\n",
       "    <tr style=\"text-align: right;\">\n",
       "      <th></th>\n",
       "      <th>b</th>\n",
       "      <th>c</th>\n",
       "      <th>d</th>\n",
       "      <th>e</th>\n",
       "    </tr>\n",
       "  </thead>\n",
       "  <tbody>\n",
       "    <tr>\n",
       "      <th>Colorado</th>\n",
       "      <td>6</td>\n",
       "      <td>7</td>\n",
       "      <td>8</td>\n",
       "      <td>NaN</td>\n",
       "    </tr>\n",
       "    <tr>\n",
       "      <th>Ohio</th>\n",
       "      <td>6</td>\n",
       "      <td>8</td>\n",
       "      <td>5</td>\n",
       "      <td>5</td>\n",
       "    </tr>\n",
       "    <tr>\n",
       "      <th>Oregon</th>\n",
       "      <td>9</td>\n",
       "      <td>10</td>\n",
       "      <td>NaN</td>\n",
       "      <td>11</td>\n",
       "    </tr>\n",
       "    <tr>\n",
       "      <th>Texas</th>\n",
       "      <td>6</td>\n",
       "      <td>7</td>\n",
       "      <td>NaN</td>\n",
       "      <td>8</td>\n",
       "    </tr>\n",
       "    <tr>\n",
       "      <th>Utah</th>\n",
       "      <td>0</td>\n",
       "      <td>2</td>\n",
       "      <td>2</td>\n",
       "      <td>2</td>\n",
       "    </tr>\n",
       "  </tbody>\n",
       "</table>\n",
       "</div>"
      ],
      "text/plain": [
       "          b   c   d   e\n",
       "Colorado  6   7   8 NaN\n",
       "Ohio      6   8   5   5\n",
       "Oregon    9  10 NaN  11\n",
       "Texas     6   7 NaN   8\n",
       "Utah      0   2   2   2"
      ]
     },
     "execution_count": 26,
     "metadata": {},
     "output_type": "execute_result"
    }
   ],
   "source": [
    "#5.2.4\n",
    "s1 = Series([7.3,-2.5,3.4,1.5],index=['a','c','d','e'])\n",
    "s2 = Series([-2.1,3.6,-1.5,4,3.1],index=['a','c','e','f','g'])\n",
    "\n",
    "s1 + s2\n",
    "\n",
    "df1 = DataFrame(np.arange(9.).reshape((3,3)), columns = list('bcd'), index = ['Utah','Ohio','Colorado'])\n",
    "print(df1)\n",
    "\n",
    "df2 = DataFrame(np.arange(12.).reshape((4,3)), columns = list('bce'), index = ['Utah','Ohio','Texas','Oregon'])\n",
    "print(df2)\n",
    "\n",
    "df1 + df2\n",
    "\n",
    "df1.add(df2, fill_value=0)"
   ]
  },
  {
   "cell_type": "code",
   "execution_count": 45,
   "metadata": {
    "collapsed": false
   },
   "outputs": [
    {
     "data": {
      "text/html": [
       "<div>\n",
       "<table border=\"1\" class=\"dataframe\">\n",
       "  <thead>\n",
       "    <tr style=\"text-align: right;\">\n",
       "      <th></th>\n",
       "      <th>b</th>\n",
       "      <th>d</th>\n",
       "      <th>e</th>\n",
       "    </tr>\n",
       "  </thead>\n",
       "  <tbody>\n",
       "    <tr>\n",
       "      <th>Utah</th>\n",
       "      <td>0</td>\n",
       "      <td>0</td>\n",
       "      <td>0</td>\n",
       "    </tr>\n",
       "    <tr>\n",
       "      <th>Ohio</th>\n",
       "      <td>3</td>\n",
       "      <td>3</td>\n",
       "      <td>3</td>\n",
       "    </tr>\n",
       "    <tr>\n",
       "      <th>Texas</th>\n",
       "      <td>6</td>\n",
       "      <td>6</td>\n",
       "      <td>6</td>\n",
       "    </tr>\n",
       "    <tr>\n",
       "      <th>Oregon</th>\n",
       "      <td>9</td>\n",
       "      <td>9</td>\n",
       "      <td>9</td>\n",
       "    </tr>\n",
       "  </tbody>\n",
       "</table>\n",
       "</div>"
      ],
      "text/plain": [
       "        b  d  e\n",
       "Utah    0  0  0\n",
       "Ohio    3  3  3\n",
       "Texas   6  6  6\n",
       "Oregon  9  9  9"
      ]
     },
     "execution_count": 45,
     "metadata": {},
     "output_type": "execute_result"
    }
   ],
   "source": [
    "arr = np.arange(12.).reshape((3,4))\n",
    "\n",
    "arr\n",
    "arr[0]\n",
    "\n",
    "arr - arr[0]\n",
    "\n",
    "frame = DataFrame(np.arange(12.).reshape((4,3)), columns=list('bde'),index = ['Utah','Ohio','Texas','Oregon'])\n",
    "\n",
    "series = frame.ix[0]\n",
    "frame\n",
    "series\n",
    "\n",
    "\n",
    "frame - series "
   ]
  },
  {
   "cell_type": "code",
   "execution_count": 57,
   "metadata": {
    "collapsed": false
   },
   "outputs": [
    {
     "name": "stdout",
     "output_type": "stream",
     "text": [
      "===============================\n",
      "               b         d         e\n",
      "Utah   -1.703181 -0.536249 -0.894171\n",
      "Ohio   -0.550779 -0.096461  1.188169\n",
      "Texas  -0.163833 -0.908479  1.646394\n",
      "Oregon  0.966564 -0.476593 -0.414566\n",
      "===============================\n",
      "               b         d         e\n",
      "Utah    1.703181  0.536249  0.894171\n",
      "Ohio    0.550779  0.096461  1.188169\n",
      "Texas   0.163833  0.908479  1.646394\n",
      "Oregon  0.966564  0.476593  0.414566\n",
      "===============================\n",
      "b    2.669744\n",
      "d    0.812018\n",
      "e    2.540565\n",
      "dtype: float64\n",
      "===============================\n"
     ]
    },
    {
     "data": {
      "text/plain": [
       "Utah      -0.89\n",
       "Ohio       1.19\n",
       "Texas      1.65\n",
       "Oregon    -0.41\n",
       "Name: e, dtype: object"
      ]
     },
     "execution_count": 57,
     "metadata": {},
     "output_type": "execute_result"
    }
   ],
   "source": [
    "#5.2.5 함수 적용과 매핑\n",
    "\n",
    "frame = DataFrame(np.random.randn(4,3),columns = list('bde'), index = ['Utah','Ohio','Texas','Oregon'])\n",
    "\n",
    "print('===============================')\n",
    "print (frame)\n",
    "print('===============================')\n",
    "print(np.abs(frame))\n",
    "print('===============================')\n",
    "f = lambda x : x.max() - x.min()\n",
    "print(frame.apply(f))\n",
    "print('===============================')\n",
    "frame.apply(f, axis=1)\n",
    "\n",
    "def f(x):\n",
    "    return Series([ x.min() , x.max()], index = ['min','max'])\n",
    "\n",
    "frame.apply(f)\n",
    "\n",
    "format = lambda x: '%.2f' % x\n",
    "\n",
    "frame.applymap(format)\n",
    "\n",
    "frame['e'].map(format)\n"
   ]
  },
  {
   "cell_type": "code",
   "execution_count": 88,
   "metadata": {
    "collapsed": false
   },
   "outputs": [
    {
     "data": {
      "text/plain": [
       "0    1\n",
       "1    7\n",
       "2    2\n",
       "3    3\n",
       "4    5\n",
       "5    6\n",
       "6    4\n",
       "dtype: float64"
      ]
     },
     "execution_count": 88,
     "metadata": {},
     "output_type": "execute_result"
    }
   ],
   "source": [
    "obj = Series(range(4),index =['d','a','b','c'])\n",
    "obj\n",
    "obj.sort_index()\n",
    "\n",
    "frame = DataFrame(np.arange(8).reshape((2,4)),index = ['three','one'],columns = ['d','a','b','c'])\n",
    "\n",
    "frame\n",
    "\n",
    "frame.sort_index()\n",
    "\n",
    "frame.sort_index(axis=1)\n",
    "\n",
    "frame.sort_index(axis=1,ascending=False)\n",
    "\n",
    "obj = Series([4,7,-3,2])\n",
    "\n",
    "obj.sort_values()\n",
    "\n",
    "obj = Series([4,np.nan,7,np.nan,-3,2])\n",
    "obj.sort_values()\n",
    "\n",
    "frame = DataFrame({'b':[4,7,-3,2] , 'a':[0,1,0,1]})\n",
    "\n",
    "frame\n",
    "\n",
    "frame.sort_values ( by='b')\n",
    "\n",
    "frame.sort_values ( by=['a','b'])\n",
    "\n",
    "obj = Series([7,-5,7,4,2,0,4])\n",
    "obj\n",
    "obj.rank()\n",
    "\n",
    "obj.rank(method='first')\n",
    "obj.rank( ascending=False,method='max')\n",
    "\n",
    "obj.rank( ascending=False,method='first')\n"
   ]
  },
  {
   "cell_type": "code",
   "execution_count": 93,
   "metadata": {
    "collapsed": false
   },
   "outputs": [
    {
     "data": {
      "text/html": [
       "<div>\n",
       "<table border=\"1\" class=\"dataframe\">\n",
       "  <thead>\n",
       "    <tr style=\"text-align: right;\">\n",
       "      <th></th>\n",
       "      <th>0</th>\n",
       "      <th>1</th>\n",
       "      <th>2</th>\n",
       "    </tr>\n",
       "  </thead>\n",
       "  <tbody>\n",
       "    <tr>\n",
       "      <th>a</th>\n",
       "      <td>0.612185</td>\n",
       "      <td>-0.020836</td>\n",
       "      <td>0.643609</td>\n",
       "    </tr>\n",
       "    <tr>\n",
       "      <th>a</th>\n",
       "      <td>0.158376</td>\n",
       "      <td>-1.782893</td>\n",
       "      <td>0.681216</td>\n",
       "    </tr>\n",
       "    <tr>\n",
       "      <th>b</th>\n",
       "      <td>-0.332119</td>\n",
       "      <td>0.286645</td>\n",
       "      <td>-0.109778</td>\n",
       "    </tr>\n",
       "    <tr>\n",
       "      <th>b</th>\n",
       "      <td>1.077052</td>\n",
       "      <td>-2.237707</td>\n",
       "      <td>-0.449487</td>\n",
       "    </tr>\n",
       "  </tbody>\n",
       "</table>\n",
       "</div>"
      ],
      "text/plain": [
       "          0         1         2\n",
       "a  0.612185 -0.020836  0.643609\n",
       "a  0.158376 -1.782893  0.681216\n",
       "b -0.332119  0.286645 -0.109778\n",
       "b  1.077052 -2.237707 -0.449487"
      ]
     },
     "execution_count": 93,
     "metadata": {},
     "output_type": "execute_result"
    }
   ],
   "source": [
    "#5.2.7중복색인\n",
    "obj = Series(range(5),index = ['a','a','b','b','c'])\n",
    "\n",
    "obj\n",
    "\n",
    "obj.index.is_unique\n",
    "\n",
    "obj['a']\n",
    "obj['c']\n",
    "\n",
    "df = DataFrame(np.random.randn(4,3),index = ['a','a','b','b'])\n",
    "df"
   ]
  },
  {
   "cell_type": "code",
   "execution_count": 106,
   "metadata": {
    "collapsed": false
   },
   "outputs": [
    {
     "data": {
      "text/plain": [
       "count     16\n",
       "unique     3\n",
       "top        a\n",
       "freq       8\n",
       "dtype: object"
      ]
     },
     "execution_count": 106,
     "metadata": {},
     "output_type": "execute_result"
    }
   ],
   "source": [
    "df = DataFrame(\n",
    "    [[1.4,np.nan],[7.1,-4.5],[np.nan,np.nan],[0.75,-1.3]],index =['a','b','c','d'], columns=['one','two'])\n",
    "df\n",
    "\n",
    "df.sum()\n",
    "df.sum(axis=1)\n",
    "\n",
    "df.mean(axis=1,skipna=False)\n",
    "df.idxmax()\n",
    "\n",
    "df.cumsum()\n",
    "\n",
    "df.describe()\n",
    "\n",
    "obj = Series(['a','a','b','c'] * 4)\n",
    "obj\n",
    "\n",
    "obj.describe()\n"
   ]
  },
  {
   "cell_type": "code",
   "execution_count": 109,
   "metadata": {
    "collapsed": false
   },
   "outputs": [],
   "source": [
    "#5.3.1. 상관관계와 공분산\n",
    "import pandas.io.data as web\n",
    "\n",
    "all_data = {}\n",
    "for tickr in ['AAPL','IBM']"
   ]
  }
 ],
 "metadata": {
  "kernelspec": {
   "display_name": "Python 3",
   "language": "python",
   "name": "python3"
  },
  "language_info": {
   "codemirror_mode": {
    "name": "ipython",
    "version": 3
   },
   "file_extension": ".py",
   "mimetype": "text/x-python",
   "name": "python",
   "nbconvert_exporter": "python",
   "pygments_lexer": "ipython3",
   "version": "3.5.1"
  }
 },
 "nbformat": 4,
 "nbformat_minor": 0
}
