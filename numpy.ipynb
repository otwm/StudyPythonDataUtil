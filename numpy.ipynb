{
 "cells": [
  {
   "cell_type": "code",
   "execution_count": 2,
   "metadata": {
    "collapsed": false
   },
   "outputs": [
    {
     "data": {
      "text/plain": [
       "dtype('float64')"
      ]
     },
     "execution_count": 2,
     "metadata": {},
     "output_type": "execute_result"
    }
   ],
   "source": [
    "#ndArray\n",
    "import numpy as np\n",
    "\n",
    "data = np.random.randn(2,3)\n",
    "data * 10\n",
    "\n",
    "#차원 정보를 알려줌\n",
    "data.shape\n",
    "\n",
    "#data type을 알려준다.\n",
    "data.dtype"
   ]
  },
  {
   "cell_type": "code",
   "execution_count": 3,
   "metadata": {
    "collapsed": false
   },
   "outputs": [
    {
     "data": {
      "text/plain": [
       "array([[[ 0.,  0.],\n",
       "        [ 0.,  0.],\n",
       "        [ 0.,  0.],\n",
       "        [ 0.,  0.],\n",
       "        [ 0.,  0.],\n",
       "        [ 0.,  0.]],\n",
       "\n",
       "       [[ 0.,  0.],\n",
       "        [ 0.,  0.],\n",
       "        [ 0.,  0.],\n",
       "        [ 0.,  0.],\n",
       "        [ 0.,  0.],\n",
       "        [ 0.,  0.]],\n",
       "\n",
       "       [[ 0.,  0.],\n",
       "        [ 0.,  0.],\n",
       "        [ 0.,  0.],\n",
       "        [ 0.,  0.],\n",
       "        [ 0.,  0.],\n",
       "        [ 0.,  0.]]])"
      ]
     },
     "execution_count": 3,
     "metadata": {},
     "output_type": "execute_result"
    }
   ],
   "source": [
    "#ndarray 초기화\n",
    "data1 = [6,1.5,8,0,1]\n",
    "arr1 = np.array(data1)\n",
    "arr1\n",
    "\n",
    "data2 = [[1,2,3,4],[5,6,7,8]]\n",
    "arr2 = np.array(data2)\n",
    "arr2\n",
    "\n",
    "arr2.ndim\n",
    "arr2.dtype\n",
    "\n",
    "# zeros empty one 등 다양한 방법으로 초기화가 가능하다.\n",
    "np.zeros(10)\n",
    "np.zeros((3,6,2))\n",
    "np.zeros((3,6))\n",
    "np.empty((3,6,2))"
   ]
  },
  {
   "cell_type": "code",
   "execution_count": 4,
   "metadata": {
    "collapsed": false
   },
   "outputs": [
    {
     "data": {
      "text/plain": [
       "array([[1, 1, 1, 1],\n",
       "       [1, 1, 1, 1],\n",
       "       [1, 1, 1, 1]], dtype=int32)"
      ]
     },
     "execution_count": 4,
     "metadata": {},
     "output_type": "execute_result"
    }
   ],
   "source": [
    "data = np.random.randn(3,6,2)\n",
    "np.empty((3,6,2))\n",
    "\n",
    "#파이썬 range와 비슷\n",
    "np.arange(4,15)\n",
    "\n",
    "np.asarray(np.array([1,2,3]))\n",
    "\n",
    "#타입 설정등\n",
    "np.ones((3,4),dtype=np.int32)\n",
    "np.ones((2,2,3))\n",
    "\n",
    "np.ones_like([2,2])\n",
    "np.eye(10)\n",
    "np.ones((3,4),dtype=np.int32)"
   ]
  },
  {
   "cell_type": "code",
   "execution_count": 5,
   "metadata": {
    "collapsed": false
   },
   "outputs": [
    {
     "data": {
      "text/plain": [
       "array([[ 1.        ,  1.41421356,  1.73205081],\n",
       "       [ 2.        ,  2.23606798,  2.44948974]])"
      ]
     },
     "execution_count": 5,
     "metadata": {},
     "output_type": "execute_result"
    }
   ],
   "source": [
    "#스칼라 연산\n",
    "arr = np.array([[1,2,3],[4,5,6]])\n",
    "arr\n",
    "\n",
    "arr * arr\n",
    "arr - arr\n",
    "\n",
    "1/arr\n",
    "\n",
    "arr ** 0.5"
   ]
  },
  {
   "cell_type": "code",
   "execution_count": 6,
   "metadata": {
    "collapsed": false
   },
   "outputs": [
    {
     "name": "stdout",
     "output_type": "stream",
     "text": [
      "[5 6 7]\n"
     ]
    },
    {
     "data": {
      "text/plain": [
       "array([ 0,  1,  2,  3,  4, 64, 64, 64,  8,  9])"
      ]
     },
     "execution_count": 6,
     "metadata": {},
     "output_type": "execute_result"
    }
   ],
   "source": [
    "#색인과 슬라이싱!!!(중요하다)\n",
    "\n",
    "arr = np.arange(10)\n",
    "arr\n",
    "\n",
    "arr[5]\n",
    "\n",
    "print(arr[5:8])\n",
    "\n",
    "arr[5:8] = 12\n",
    "arr\n",
    "\n",
    "arr_slice = arr[5:8]\n",
    "arr_slice[1] = 12345\n",
    "\n",
    "#arr_slice라는 것을 변경해도 같이 변경된다. 결국 새롭게 생성하는 것은 없고 단지 레퍼라는 것!!!\n",
    "arr\n",
    "\n",
    "#보았는가?\n",
    "arr_slice[:] = 64\n",
    "arr"
   ]
  },
  {
   "cell_type": "code",
   "execution_count": 39,
   "metadata": {
    "collapsed": false
   },
   "outputs": [
    {
     "data": {
      "text/plain": [
       "array([[1, 0, 0],\n",
       "       [4, 0, 0],\n",
       "       [7, 8, 9]])"
      ]
     },
     "execution_count": 39,
     "metadata": {},
     "output_type": "execute_result"
    }
   ],
   "source": [
    "#행렬적인 표현\n",
    "arr2d = np.array([[1,2,3],[4,5,6],[7,8,9]])\n",
    "\n",
    "arr2d\n",
    "arr2d[2]\n",
    "arr2d[0][2]\n",
    "\n",
    "arr2d[0,2]\n",
    "\n",
    "arr3d = np.array([[[1,2,3],[4,5,6]] ,[[7,8,9],[10,11,12]]])\n",
    "\n",
    "arr3d[0]\n",
    "\n",
    "#copy\n",
    "old_values = arr3d[0].copy()\n",
    "\n",
    "old_values\n",
    "arr3d[0] = 42\n",
    "\n",
    "arr3d\n",
    "old_values\n",
    "\n",
    "arr3d[0]= old_values\n",
    "arr3d[1,0]\n",
    "\n",
    "arr[1:6]\n",
    "\n",
    "arr2d\n",
    "arr2d[:2]\n",
    "arr2d[:2,:1]\n",
    "\n",
    "arr2d[1,:2]\n",
    "arr2d[2,:1]\n",
    "\n",
    "arr2d\n",
    "arr2d[2,:1]\n",
    "\n",
    "arr2d[:2,1:] = 0\n",
    "arr2d\n",
    "\n",
    "    "
   ]
  },
  {
   "cell_type": "code",
   "execution_count": 59,
   "metadata": {
    "collapsed": false
   },
   "outputs": [
    {
     "data": {
      "text/plain": [
       "array([[ 7.        ,  7.        ,  7.        ,  7.        ],\n",
       "       [ 0.61939991,  0.65312127,  0.30307238,  0.        ],\n",
       "       [ 7.        ,  7.        ,  7.        ,  7.        ],\n",
       "       [ 7.        ,  7.        ,  7.        ,  7.        ],\n",
       "       [ 7.        ,  7.        ,  7.        ,  7.        ],\n",
       "       [ 0.30944265,  0.        ,  0.        ,  0.        ],\n",
       "       [ 0.2074346 ,  0.05575649,  0.        ,  0.60553312]])"
      ]
     },
     "execution_count": 59,
     "metadata": {},
     "output_type": "execute_result"
    }
   ],
   "source": [
    "names = np.array(['Bob','Joe','Will','Bob','Will','Joe','Joe'])\n",
    "names\n",
    "\n",
    "data = np.random.randn(7,4)\n",
    "data\n",
    "\n",
    "names == 'Bob'\n",
    "data[names=='Bob']\n",
    "data[names=='Bob',2:]\n",
    "data[names=='Bob',3]\n",
    "\n",
    "data[ (names!='Bob')]\n",
    "\n",
    "mask = (names=='Bob') | (names == 'Will')\n",
    "\n",
    "mask\n",
    "data[mask]\n",
    "\n",
    "data[data < 0] = 0\n",
    "\n",
    "data\n",
    "\n",
    "data[names != 'Joe'] =7\n",
    "data\n",
    "\n"
   ]
  },
  {
   "cell_type": "code",
   "execution_count": 84,
   "metadata": {
    "collapsed": false
   },
   "outputs": [
    {
     "name": "stdout",
     "output_type": "stream",
     "text": [
      "[[ 0.  0.  0.  0.]\n",
      " [ 1.  1.  1.  1.]\n",
      " [ 2.  2.  2.  2.]\n",
      " [ 3.  3.  3.  3.]\n",
      " [ 4.  4.  4.  4.]\n",
      " [ 5.  5.  5.  5.]\n",
      " [ 6.  6.  6.  6.]\n",
      " [ 7.  7.  7.  7.]]\n",
      "[[ 0  1  2  3]\n",
      " [ 4  5  6  7]\n",
      " [ 8  9 10 11]\n",
      " [12 13 14 15]\n",
      " [16 17 18 19]\n",
      " [20 21 22 23]\n",
      " [24 25 26 27]\n",
      " [28 29 30 31]]\n"
     ]
    },
    {
     "data": {
      "text/plain": [
       "array([[ 4,  7,  5,  6],\n",
       "       [20, 23, 21, 22],\n",
       "       [28, 31, 29, 30],\n",
       "       [ 8, 11,  9, 10]])"
      ]
     },
     "execution_count": 84,
     "metadata": {},
     "output_type": "execute_result"
    }
   ],
   "source": [
    "#팬시 색인\n",
    "\n",
    "arr= np.empty((8,4))\n",
    "arr\n",
    "\n",
    "for i in range(8):\n",
    "    arr[i] = i\n",
    "    \n",
    "print(arr   )\n",
    "\n",
    "#이런 것이 팬시 색인인 것인가?\n",
    "arr[[4,3,2,1]]\n",
    "\n",
    "arr[[-3,-5,-7]]\n",
    "\n",
    "arr = np.arange(32).reshape((8,4))\n",
    "\n",
    "arr[[1,5,7,2],[0,3,1,2]]\n",
    "\n",
    "print(arr)\n",
    "arr[[1,5,7,2]][:,[0,3,1,2]]\n",
    "\n",
    "#arr[[1,5,7,2]][:2,[0,3,1,2]]\n",
    "\n",
    "#오묘하도다!\n",
    "arr[np.ix_([1,5,7,2],[0,3,1,2])]\n"
   ]
  },
  {
   "cell_type": "code",
   "execution_count": 96,
   "metadata": {
    "collapsed": false
   },
   "outputs": [
    {
     "name": "stdout",
     "output_type": "stream",
     "text": [
      "[[ 0  1  2  3  4]\n",
      " [ 5  6  7  8  9]\n",
      " [10 11 12 13 14]]\n",
      "[[ 0  5 10]\n",
      " [ 1  6 11]\n",
      " [ 2  7 12]\n",
      " [ 3  8 13]\n",
      " [ 4  9 14]]\n",
      "[[125 140 155 170 185]\n",
      " [140 158 176 194 212]\n",
      " [155 176 197 218 239]\n",
      " [170 194 218 242 266]\n",
      " [185 212 239 266 293]]\n",
      "[[0 1]\n",
      " [2 3]]\n",
      "[[0 2]\n",
      " [1 3]]\n"
     ]
    },
    {
     "data": {
      "text/plain": [
       "array([[ 4,  6],\n",
       "       [ 6, 10]])"
      ]
     },
     "execution_count": 96,
     "metadata": {},
     "output_type": "execute_result"
    }
   ],
   "source": [
    "arr = np.arange(15).reshape((3,5))\n",
    "arr\n",
    "arr.T\n",
    "print(arr)\n",
    "print(arr.T)\n",
    "print(np.dot(arr.T,arr) )\n",
    "arr = np.random.randn(6,3)\n",
    "arr\n",
    "\n",
    "np.dot(arr.T,arr)\n",
    "\n",
    "arr = np.arange(4).reshape((2,2))\n",
    "print(arr)\n",
    "print(arr.T)\n",
    "np.dot(arr.T,arr)"
   ]
  }
 ],
 "metadata": {
  "kernelspec": {
   "display_name": "Python 3",
   "language": "python",
   "name": "python3"
  },
  "language_info": {
   "codemirror_mode": {
    "name": "ipython",
    "version": 3
   },
   "file_extension": ".py",
   "mimetype": "text/x-python",
   "name": "python",
   "nbconvert_exporter": "python",
   "pygments_lexer": "ipython3",
   "version": "3.5.1"
  }
 },
 "nbformat": 4,
 "nbformat_minor": 0
}
